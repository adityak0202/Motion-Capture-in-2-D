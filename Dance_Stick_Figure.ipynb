{
 "cells": [
  {
   "cell_type": "code",
   "execution_count": 1,
   "id": "37774da5-a5ac-4f26-a623-080f3005c237",
   "metadata": {},
   "outputs": [],
   "source": [
    "import cv2\n",
    "import mediapipe as mp\n",
    "# import time\n",
    "import numpy as np\n",
    "\n",
    "from moviepy.editor import VideoFileClip, vfx"
   ]
  },
  {
   "cell_type": "code",
   "execution_count": 2,
   "id": "d9c63039-aa02-446a-8134-ded871cdae46",
   "metadata": {},
   "outputs": [],
   "source": [
    "input_filepath = 'Dance_01.mp4'\n",
    "output_filepath = 'Stick_Dance.mp4'"
   ]
  },
  {
   "cell_type": "code",
   "execution_count": 3,
   "id": "b724c534-f3e5-4e99-bc21-4eaff5f559aa",
   "metadata": {},
   "outputs": [],
   "source": [
    "mp_drawing = mp.solutions.drawing_utils\n",
    "mp_pose = mp.solutions.pose"
   ]
  },
  {
   "cell_type": "code",
   "execution_count": 4,
   "id": "f0fdfb8d-7613-42db-8de2-83df59b2cab6",
   "metadata": {},
   "outputs": [],
   "source": [
    "\n",
    "cap = cv2.VideoCapture(input_filepath)\n",
    "\n",
    "if not cap.isOpened():\n",
    "    print(\"Error: Could not open video.\")\n",
    "    exit()\n",
    "\n",
    "frame_width = int(cap.get(cv2.CAP_PROP_FRAME_WIDTH))\n",
    "frame_height = int(cap.get(cv2.CAP_PROP_FRAME_HEIGHT))\n",
    "\n",
    "fourcc = cv2.VideoWriter_fourcc(*'XVID')\n",
    "output_video = cv2.VideoWriter(output_filepath, fourcc, 20.0, (frame_width, frame_height))\n",
    "\n",
    "with mp_pose.Pose(static_image_mode=False, min_detection_confidence=0.75) as pose:\n",
    "    while cap.isOpened():\n",
    "        ret, frame = cap.read()\n",
    "        if not ret:\n",
    "            break\n",
    "\n",
    "        frame = cv2.flip(frame, 1)\n",
    "\n",
    "        image = cv2.cvtColor(frame, cv2.COLOR_BGR2RGB)\n",
    "        image.flags.writeable = False \n",
    "\n",
    "        \n",
    "        results = pose.process(image)\n",
    "\n",
    "        output_image = np.zeros(frame.shape, dtype=np.uint8)\n",
    "\n",
    "        if results.pose_landmarks:\n",
    "            mp_drawing.draw_landmarks(output_image, results.pose_landmarks, mp_pose.POSE_CONNECTIONS)\n",
    "\n",
    "        \n",
    "        output_video.write(output_image)\n",
    "\n",
    "  \n",
    "        cv2.imshow('Pose Detection', output_image)\n",
    "\n",
    "       \n",
    "        if cv2.waitKey(5) & 0xFF == ord('q'):\n",
    "            break\n",
    "\n",
    "\n",
    "cap.release()\n",
    "output_video.release()\n",
    "cv2.destroyAllWindows()\n"
   ]
  },
  {
   "cell_type": "code",
   "execution_count": 8,
   "id": "0d57e0de-81f0-43fe-8fda-ebf493cf4018",
   "metadata": {},
   "outputs": [],
   "source": [
    "input_audio = VideoFileClip(input_filepath).audio\n",
    "output_video = VideoFileClip(output_filepath)"
   ]
  },
  {
   "cell_type": "code",
   "execution_count": 26,
   "id": "99d075f6-c145-49bd-9ee7-cbeff3ae4c9f",
   "metadata": {},
   "outputs": [
    {
     "name": "stdout",
     "output_type": "stream",
     "text": [
      "Video Duration: 21.7\n",
      "Audio Duration: 14.49\n",
      "\n",
      "Speed Factor: 1.497584541062802\n"
     ]
    }
   ],
   "source": [
    "print(f\"Video Duration: {output_video.duration}\")\n",
    "print(f\"Audio Duration: {input_audio.duration}\")\n",
    "speed_factor = float(output_video.duration / input_audio.duration)\n",
    "print(f\"\\nSpeed Factor: {speed_factor}\")"
   ]
  },
  {
   "cell_type": "code",
   "execution_count": 19,
   "id": "757ec82b-fffb-4e60-8134-e87443dee690",
   "metadata": {},
   "outputs": [],
   "source": [
    "final_video = output_video.fx(vfx.speedx, speed_factor)"
   ]
  },
  {
   "cell_type": "code",
   "execution_count": 21,
   "id": "e4f1cb69-4b3e-4186-b1c2-8c310760de16",
   "metadata": {},
   "outputs": [
    {
     "name": "stdout",
     "output_type": "stream",
     "text": [
      "Moviepy - Building video Stick_Dance_audio.mp4.\n",
      "MoviePy - Writing audio in Stick_Dance_audioTEMP_MPY_wvf_snd.mp3\n"
     ]
    },
    {
     "name": "stderr",
     "output_type": "stream",
     "text": [
      "                                                                                                                       \r"
     ]
    },
    {
     "name": "stdout",
     "output_type": "stream",
     "text": [
      "MoviePy - Done.\n",
      "Moviepy - Writing video Stick_Dance_audio.mp4\n",
      "\n"
     ]
    },
    {
     "name": "stderr",
     "output_type": "stream",
     "text": [
      "                                                                                                                       \r"
     ]
    },
    {
     "name": "stdout",
     "output_type": "stream",
     "text": [
      "Moviepy - Done !\n",
      "Moviepy - video ready Stick_Dance_audio.mp4\n"
     ]
    }
   ],
   "source": [
    "final_video = final_video.set_audio(input_audio)\n",
    "final_filepath = 'Stick_Dance_audio.mp4'\n",
    "final_video.write_videofile(final_filepath, codec='libx264')"
   ]
  }
 ],
 "metadata": {
  "kernelspec": {
   "display_name": "Python 3 (ipykernel)",
   "language": "python",
   "name": "python3"
  },
  "language_info": {
   "codemirror_mode": {
    "name": "ipython",
    "version": 3
   },
   "file_extension": ".py",
   "mimetype": "text/x-python",
   "name": "python",
   "nbconvert_exporter": "python",
   "pygments_lexer": "ipython3",
   "version": "3.12.6"
  }
 },
 "nbformat": 4,
 "nbformat_minor": 5
}
